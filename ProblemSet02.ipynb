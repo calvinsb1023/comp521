{
 "cells": [
  {
   "cell_type": "raw",
   "metadata": {
    "course": "Comp521F16",
    "problemset": 2,
    "section": "header"
   },
   "source": [
    "<div style=\"text-align: center;\">\n",
    "<h1>The University of North Carolina at Chapel Hill</h1>\n",
    "<h1>Comp 521 Files and Databases - Fall 2016</h1>\n",
    "<h1 style=\"font-size: 250%;\">Problem Set #2</h1>\n",
    "<h1 style=\"font-size: 200%;\">Version 1.1</h1>\n",
    "<h1>Issued Friday 09/16/2016; Due Monday 09/26/2016</h1>\n",
    "</div>\n",
    "\n",
    "**Homework Information:** The answer cells in this notebook contain metadata that enable it to be automatically parsed. Thus, you must enter your answers *only* into the cells provided. Do not delete any answer cell and/or add a new one to replace it. If you do so by accident, download a new copy of the problem set's notebook and transfer your answers into it. You can introduce new 'coding' cells in an effort to test your approaches to problems, however, these introduced cells will not be considered when grading.\n",
    "\n",
    "Finally, some of the problems are probably too long to be done the night before the due date, so plan accordingly. Late problem sets will be penalized by a factor of 70.71% for each class meeting after their due date. Feel free to get help from others, but the work you submit in should be your own."
   ]
  },
  {
   "cell_type": "code",
   "execution_count": 1,
   "metadata": {
    "collapsed": true,
    "section": "signature"
   },
   "outputs": [],
   "source": [
    "# Do not make any edits in this cell!\n",
    "class Student:\n",
    "    first = \"Calvin\"\n",
    "    last = \"Barker\"\n",
    "    onyen = \"barkerc1\"\n",
    "    pid = \"720391993\""
   ]
  },
  {
   "cell_type": "markdown",
   "metadata": {
    "section": "setup"
   },
   "source": [
    "In the following questions you are asked to write a single SQL query to find the requested results from the Movies data described in problem set #1.\n",
    " <table style=\"border:none;\"><tbody>\n",
    "        <tr style=\"border:none;\">\n",
    "            <td style=\"padding:0px 20px;border:none;\">\n",
    "            <table><tbody>\n",
    "            <tr><th colspan=\"6\" style=\"text-align:center;\">Movies</th></tr>\n",
    "            <tr><td><u>mid</u></td>\n",
    "                <td>title</td>\n",
    "                <td>releasedate</td>\n",
    "                <td>runtime</td>\n",
    "                <td>revenue</td>\n",
    "                <td>budget</td>\n",
    "            </tr>\n",
    "            </tbody></table>\n",
    "            </td>\n",
    "            <td style=\"padding:0px 20px;border:none;\">\n",
    "            <table><tbody>\n",
    "            <tr><th colspan=\"4\" style=\"text-align:center;\">Cast</th></tr>\n",
    "            <tr><td><u>mid</u></td>\n",
    "                <td><u>billing</u></td>\n",
    "                <td><u>aid</u></td>\n",
    "                <td>role</td>\n",
    "            </tr>\n",
    "            </tbody></table>\n",
    "            </td>\n",
    "            <td style=\"padding:0px 20px;border:none;\">\n",
    "            <table><tbody>\n",
    "            <tr><th colspan=\"4\" style=\"text-align:center;\">Actors</th></tr>\n",
    "            <tr><td><u>aid</u></td>\n",
    "                <td>name</td>\n",
    "                <td>gender</td>\n",
    "                <td>birthdate</td>\n",
    "            </tr>\n",
    "            </tbody></table>\n",
    "            </td>\n",
    "        </tr>\n",
    "        </tbody></table>\n",
    "\n",
    "An <a href=\"http://csbio.unc.edu/mcmillan/Media/movies.db\" download>example database</a> and the interactive SQL parser (<a href=\"http://csbio.unc.edu/mcmillan/Media/iSQL.zip\" download>iSQL.zip</a>) are provided for experimentation. You will need to unzip and copy iSQL.py into the same directory as the notebook for this problem set and invoke it as follows:\n",
    "\n",
    "\n",
    "    import iSQL\n",
    "    \n",
    "    query = iSQL.parser(\"movies.db\")\n",
    "    </code>\n",
    "    \n",
    "\n",
    "Make sure that you copy your final SQL query into the cell provided for your answer. Only that cell will be graded.\n",
    "***Warning***, if your query appears to give the correct result for the given database, that does not mean that it is correct. A correct query must give the requested result for *any* and *all* valid instances of the given database schema."
   ]
  },
  {
   "cell_type": "markdown",
   "metadata": {
    "case": 2,
    "key": "Superman",
    "number": 1,
    "section": "problem"
   },
   "source": [
    "---\n",
    "**Problem 1:** Find the titles of movies that include a character called \"Superman\", that do not include the word \"Superman\" in their title:"
   ]
  },
  {
   "cell_type": "raw",
   "metadata": {
    "case": 2,
    "key": "Superman",
    "number": 1,
    "section": "answer"
   },
   "source": [
    "SELECT M.title as \"Title\"\n",
    "FROM Movies M JOIN Cast C on M.mid=C.mid\n",
    "WHERE C.role LIKE \"%Superman%\" AND M.title NOT LIKE \"%Superman%\""
   ]
  },
  {
   "cell_type": "markdown",
   "metadata": {
    "case": 3,
    "key": "Superman",
    "number": 2,
    "section": "problem"
   },
   "source": [
    "---\n",
    "**Problem 2:** Find the titles of movies that include characters called \"Superman\" and \"Lois Lane\" in their credits:"
   ]
  },
  {
   "cell_type": "raw",
   "metadata": {
    "case": 3,
    "key": "Superman",
    "number": 2,
    "section": "answer"
   },
   "source": [
    "SELECT M.title as \"Title\"\n",
    "FROM Movies M JOIN Cast C on M.mid=C.mid\n",
    "WHERE C.role LIKE \"%Lois Lane%\"\n",
    "\n",
    "INTERSECT\n",
    "\n",
    "SELECT M.title\n",
    "FROM Movies M JOIN Cast C on M.mid=C.mid\n",
    "WHERE C.role LIKE \"%Superman%\""
   ]
  },
  {
   "cell_type": "markdown",
   "metadata": {
    "case": 4,
    "key": "Superman",
    "number": 3,
    "section": "problem"
   },
   "source": [
    "---\n",
    "**Problem 3:** Find the names of actors that played characters called \"Superman\" and \"Lois Lane\" in the same Movie:"
   ]
  },
  {
   "cell_type": "raw",
   "metadata": {
    "case": 4,
    "key": "Superman",
    "number": 3,
    "section": "answer"
   },
   "source": []
  },
  {
   "cell_type": "markdown",
   "metadata": {
    "case": 5,
    "key": "Superman",
    "number": 4,
    "section": "problem"
   },
   "source": [
    "---\n",
    "**Problem 4:** Find the titles of movies that include characters called \"Superman\" and \"Lex Luthor\" and \"Jimmy Olsen\":"
   ]
  },
  {
   "cell_type": "raw",
   "metadata": {
    "case": 5,
    "key": "Superman",
    "number": 4,
    "section": "answer"
   },
   "source": [
    "SELECT M.title as \"Title\"\n",
    "FROM Movies M JOIN Cast C on M.mid=C.mid\n",
    "WHERE C.role LIKE \"%Superman%\"\n",
    "\n",
    "INTERSECT\n",
    "\n",
    "SELECT M.title as \"Title\"\n",
    "FROM Movies M JOIN Cast C on M.mid=C.mid\n",
    "WHERE C.role LIKE \"%Lex Luthor%\"\n",
    "\n",
    "INTERSECT\n",
    "\n",
    "SELECT M.title as \"Title\"\n",
    "FROM Movies M JOIN Cast C on M.mid=C.mid\n",
    "WHERE C.role LIKE \"%Jimmy Olsen%\""
   ]
  },
  {
   "cell_type": "markdown",
   "metadata": {
    "case": 8,
    "key": "Superman",
    "number": 5,
    "section": "problem"
   },
   "source": [
    "---\n",
    "**Problem 5:** Find all the Actors that have played the role \"Superman\" in a movie more than once:"
   ]
  },
  {
   "cell_type": "raw",
   "metadata": {
    "case": 8,
    "key": "Superman",
    "number": 5,
    "section": "answer"
   },
   "source": [
    "SELECT DISTINCT A.name as \"Actor\"\n",
    "FROM Actors A JOIN Cast C on A.aid=C.aid\n",
    "WHERE C.role LIKE \"%Superman%\""
   ]
  },
  {
   "cell_type": "markdown",
   "metadata": {
    "case": 9,
    "key": "Superman",
    "number": 6,
    "section": "problem"
   },
   "source": [
    "---\n",
    "**Problem 6:** Find all the Actors that have reprised a role in more than one \"Superman\" movie:"
   ]
  },
  {
   "cell_type": "raw",
   "metadata": {
    "case": 9,
    "key": "Superman",
    "number": 6,
    "section": "answer"
   },
   "source": [
    "SELECT DISTINCT A.name as \"Actor\"\n",
    "FROM Actors A JOIN Cast C on A.aid=C.aid\n",
    "WHERE C.role LIKE \"%Superman%\"\n",
    "GROUP BY A.name\n",
    "HAVING COUNT(A.name)>1"
   ]
  },
  {
   "cell_type": "markdown",
   "metadata": {
    "case": 0,
    "key": "Superman",
    "number": 7,
    "section": "problem"
   },
   "source": [
    "---\n",
    "**Problem 7:** What movie had the largest profit margin (revenue-budget) where the revenue and budget were both greater than $0?"
   ]
  },
  {
   "cell_type": "raw",
   "metadata": {
    "case": 0,
    "key": "common",
    "number": 7,
    "section": "answer"
   },
   "source": [
    "SELECT title as \"Title\", (revenue-budget) as \"Profit\"\n",
    "FROM movies\n",
    "ORDER BY (revenue-budget) DESC\n",
    "LIMIT 1"
   ]
  },
  {
   "cell_type": "markdown",
   "metadata": {
    "case": 2,
    "key": "Superman",
    "number": 8,
    "section": "problem"
   },
   "source": [
    "---\n",
    "**Problem 8:** What is the largest revenue of any movie staring \"Brad Pitt\" (i.e. where he had top-billing)?"
   ]
  },
  {
   "cell_type": "raw",
   "metadata": {
    "case": 2,
    "key": "common",
    "number": 8,
    "section": "answer"
   },
   "source": [
    "SELECT M.title as \"Title\", M.revenue as \"Revenue\"\n",
    "FROM Cast C JOIN Movies M on C.mid = M.mid JOIN Actors A on A.aid = C.aid\n",
    "WHERE A.name LIKE \"Brad Pitt\" AND C.billing = 1\n",
    "ORDER BY M.revenue DESC\n",
    "LIMIT 1"
   ]
  },
  {
   "cell_type": "markdown",
   "metadata": {
    "case": 4,
    "key": "Superman",
    "number": 9,
    "section": "problem"
   },
   "source": [
    "---\n",
    "**Problem 9:** How many movies were released in each year? (Hint: SELECT DISTINCT strftime('%Y',release) FROM Movies)"
   ]
  },
  {
   "cell_type": "raw",
   "metadata": {
    "case": 4,
    "key": "common",
    "number": 9,
    "section": "answer"
   },
   "source": [
    "SELECT DISTINCT strftime('%Y',release) as \"Year\", COUNT(*) as \"Movies Released\"\n",
    "FROM Movies\n",
    "GROUP BY strftime('%Y',release)\n",
    "ORDER BY strftime('%Y',release) ASC"
   ]
  },
  {
   "cell_type": "markdown",
   "metadata": {
    "case": 6,
    "key": "Superman",
    "number": 10,
    "section": "problem"
   },
   "source": [
    "---\n",
    "**Problem 10:** What actor-actress pair appear in the most Movies together?"
   ]
  },
  {
   "cell_type": "raw",
   "metadata": {
    "case": 6,
    "key": "common",
    "number": 10,
    "section": "answer"
   },
   "source": []
  },
  {
   "cell_type": "markdown",
   "metadata": {
    "case": 8,
    "key": "Superman",
    "number": 11,
    "section": "problem"
   },
   "source": [
    "---\n",
    "**Problem 11:** What movie has the longest list of cast members?"
   ]
  },
  {
   "cell_type": "raw",
   "metadata": {
    "case": 8,
    "key": "common",
    "number": 11,
    "section": "answer"
   },
   "source": [
    "SELECT M.title, COUNT(*) as \"Cast Size\"\n",
    "FROM Movies M JOIN Cast C on M.mid = C.mid\n",
    "GROUP BY M.mid\n",
    "ORDER BY COUNT(*) DESC\n",
    "LIMIT 1"
   ]
  },
  {
   "cell_type": "markdown",
   "metadata": {
    "case": 11,
    "key": "Superman",
    "number": 12,
    "section": "problem"
   },
   "source": [
    "---\n",
    "**Problem 12:** What actor or actors appear in the most movies in a recurring role?"
   ]
  },
  {
   "cell_type": "raw",
   "metadata": {
    "case": 11,
    "key": "common",
    "number": 12,
    "section": "answer"
   },
   "source": []
  },
  {
   "cell_type": "markdown",
   "metadata": {},
   "source": [
    "Click [here to submit](http://csbio.unc.edu/mcmillan/index.py?run=PS.upload) your completed problem set.\n",
    "\n",
    "You can submit it as many times as you would like, but only the last submitted version will be graded. If the last submission was after the due date the final score will be reduced accordingly. "
   ]
  }
 ],
 "metadata": {
  "anaconda-cloud": {},
  "kernelspec": {
   "display_name": "Python [Root]",
   "language": "python",
   "name": "Python [Root]"
  },
  "language_info": {
   "codemirror_mode": {
    "name": "ipython",
    "version": 2
   },
   "file_extension": ".py",
   "mimetype": "text/x-python",
   "name": "python",
   "nbconvert_exporter": "python",
   "pygments_lexer": "ipython2",
   "version": "2.7.12"
  }
 },
 "nbformat": 4,
 "nbformat_minor": 0
}
