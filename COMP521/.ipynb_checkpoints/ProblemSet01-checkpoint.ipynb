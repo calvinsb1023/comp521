{
 "cells": [
  {
   "cell_type": "raw",
   "metadata": {
    "course": "Comp521F16",
    "probemset": 1,
    "section": "header"
   },
   "source": [
    "<div style=\"text-align: center;\">\n",
    "<h1>The University of North Carolina at Chapel Hill</h1>\n",
    "<h1>Comp 521 Files and Databases - Fall 2016</h1>\n",
    "<h1 style=\"font-size: 250%;\">Problem Set #1 </h1>\n",
    "<h1 style=\"font-size: 200%;\">Version 1.1</h1>\n",
    "<h1>Issued Wednesday, 9/7/2016; Due Friday, 9/16/2016</h1>\n",
    "</div>\n",
    "\n",
    "**Homework Information:** The answer cells in this notebook contain metadata that enable it to be automatically parsed. Thus, you must enter your answers *only* into the cells provided. Do not delete any answer cell and/or add a new one to replace it. If you do so by accident, download a new copy of the problem set's notebook and transfer your answers into it. You can introduce new 'coding' cells in an effort to test your approaches to problems, however, these introduced cells will not be considered when grading. \n",
    "\n",
    "Finally, some of the problems are probably too long to be done the night before the due date, so plan accordingly. Late problem sets will be penalized by a factor of 70.71% for each class meeting after their due date. Feel free to get help from others, but the work you submit in should be your own."
   ]
  },
  {
   "cell_type": "code",
   "execution_count": 1,
   "metadata": {
    "collapsed": true,
    "section": "signature"
   },
   "outputs": [],
   "source": [
    "# Replace the following strings with the requested information\n",
    "# Make sure each string is enclosed in quotation marks\n",
    "class Student:\n",
    "    first = \"Calvin\"\n",
    "    last = \"Barker\"\n",
    "    onyen = \"barkerc1\"\n",
    "    pid = \"720391993\""
   ]
  },
  {
   "cell_type": "markdown",
   "metadata": {
    "number": 1,
    "section": "problem"
   },
   "source": [
    "---\n",
    "**Problem 1:** Design one or more tables to prepresent the following Entities and Relations. Your client wants to develop a heredity database that contains records for individuals containing their names, birthdates, and birthplaces. Every individual is related to two other individuals, their parents (father and mother). If their is no mother or father parent record for an individual, NULL is used. Specify the tables in your design in the space below using *CREATE TABLE* specifications as we did in class for the Student and Enrolled relations and specify all PRIMARY KEYs."
   ]
  },
  {
   "cell_type": "raw",
   "metadata": {
    "number": 1,
    "section": "answer"
   },
   "source": [
    "CREATE TABLE individuals(\n",
    "    id INTEGER AUTO_INCREMENT,\n",
    "    name TEXT,\n",
    "    birthdate DATE,\n",
    "    birthplace TEXT,\n",
    "    motherId INTEGER,\n",
    "    fatherId INTEGER,\n",
    "    PRIMARY KEY(id)\n",
    ");"
   ]
  },
  {
   "cell_type": "code",
   "execution_count": null,
   "metadata": {
    "collapsed": true
   },
   "outputs": [],
   "source": []
  },
  {
   "cell_type": "markdown",
   "metadata": {
    "number": 2,
    "section": "problem"
   },
   "source": [
    "**Problem 2:** Describe how siblings, both full and half, can be found using the relations that you defined in Problem 1."
   ]
  },
  {
   "cell_type": "raw",
   "metadata": {
    "number": 2,
    "section": "answer"
   },
   "source": [
    "/* for a selected individual */\n",
    "\n",
    "SELECT * \n",
    "FROM individuals\n",
    "WHERE motherId = selectedIndividual.motherId OR fatherId = selectedIndividual.fatherId;"
   ]
  },
  {
   "cell_type": "markdown",
   "metadata": {
    "number": 3,
    "section": "problem"
   },
   "source": [
    "**Problem 3:** Describe how to find all of the decendants of an indivual, if possible, using the relations that you defined in Problem 1."
   ]
  },
  {
   "cell_type": "raw",
   "metadata": {
    "number": 3,
    "section": "answer"
   },
   "source": [
    "/* create a table to keep track of descendants */\n",
    "CREATE TABLE descendants(\n",
    "    id INTEGER,\n",
    "    name TEXT,\n",
    "    motherId INTEGER,\n",
    "    fatherId INTEGER,\n",
    "    PRIMARY KEY(id)\n",
    ");\n",
    "\n",
    "/* implement stack of individuals initialized with the selected individual */\n",
    "stack.push(selectedIndividual);\n",
    "\n",
    "/* add each stack individual's children to the stack and insert into the descendants table */\n",
    "for (person in stack) {\n",
    "    childList = (SELECT * FROM individuals WHERE (motherId = person.id OR fatherId = person.id););\n",
    "    for (child in childList) {\n",
    "        stack.push(child);\n",
    "        INSERT INTO descendants VALUES (child.id, child.name, child.motherId, child.fatherId);\n",
    "    }\n",
    "}\n",
    "\n",
    "/*this will create a table 'descendants' that contain all known descendants of the originally-selected individual in a way that maintains the records of lineage */\n",
    "SELECT * FROM descendants;\n",
    "\n",
    "/*once done with the descendants, drop the table*/\n",
    "DROP TABLE descendants;"
   ]
  },
  {
   "cell_type": "markdown",
   "metadata": {
    "number": 4,
    "section": "problem"
   },
   "source": [
    "**Problem 4:** Describe how to find all ancestors of an indivual using the relations that you defined in Problem 1."
   ]
  },
  {
   "cell_type": "raw",
   "metadata": {
    "number": 4,
    "section": "problem"
   },
   "source": [
    "/* create a table to keep track of ancestors */\n",
    "CREATE TABLE ancestors(\n",
    "    id INTEGER,\n",
    "    name TEXT,\n",
    "    motherId INTEGER,\n",
    "    fatherId INTEGER,\n",
    "    PRIMARY KEY(id)\n",
    ");\n",
    "\n",
    "/* implement stack of individuals initialized with the selected individual */\n",
    "stack.push(selectedIndividual);\n",
    "\n",
    "/* add each stack individual's parents to the stack and insert into the ancestors table */\n",
    "for (person in stack) {\n",
    "    indivMom = (SELECT * FROM individuals WHERE id = person.motherId;);\n",
    "    indivDad = (SELECT * FROM individuals WHERE id = person.fatherId;);\n",
    "    if (indivMom != null) {\n",
    "        stack.push(indivMom);\n",
    "        INSERT INTO ancestors VALUES (indivMom.id, indivMom.name, indivMom.motherId, indivMom.fatherId);\n",
    "    };\n",
    "    if (indivDad != null) {\n",
    "        stack.push(indivDad);\n",
    "        INSERT INTO ancestors VALUES (indivDad.id, indivDad.name, indivDad.motherId, indivDad.fatherId);\n",
    "    };\n",
    "}\n",
    "\n",
    "/* this will create a table 'ancestors' that contain all known ancestors of the originally-selected individual in a way that maintains the records of lineage */\n",
    "SELECT * FROM ancestors;\n",
    "\n",
    "/*once done with the ancestors, drop the table*/\n",
    "DROP TABLE ancestors;"
   ]
  },
  {
   "cell_type": "markdown",
   "metadata": {
    "number": 5,
    "section": "problem"
   },
   "source": [
    "**Problem 5:** Consider the following relations:\n",
    "\n",
    "<table style=\"border:none;\"><tbody>\n",
    "<tr style=\"border:none;\">\n",
    "    <td style=\"padding:0px 20px;border:none;\">\n",
    "    <table><tbody>\n",
    "    <tr><th colspan=\"6\" style=\"text-align:center;\">Movies</th></tr>\n",
    "    <tr><td><u>mid</u></td>\n",
    "        <td>title</td>\n",
    "        <td>releasedate</td>\n",
    "        <td>runtime</td>\n",
    "        <td>revenue</td>\n",
    "        <td>budget</td>\n",
    "    </tr>\n",
    "    </tbody></table>\n",
    "    </td>\n",
    "    \n",
    "    <td style=\"padding:0px 20px;border:none;\">\n",
    "    <table><tbody>\n",
    "    <tr><th colspan=\"4\" style=\"text-align:center;\">Cast</th></tr>\n",
    "    <tr><td><u>mid</u></td>\n",
    "        <td><u>billing</u></td>\n",
    "        <td>aid</td>\n",
    "        <td>role</td>\n",
    "    </tr>\n",
    "    </tbody></table>\n",
    "    </td>\n",
    "    \n",
    "    <td style=\"padding:0px 20px;border:none;\">\n",
    "    <table><tbody>\n",
    "    <tr><th colspan=\"4\" style=\"text-align:center;\">Actors</th></tr>\n",
    "    <tr><td><u>aid</u></td>\n",
    "        <td>name</td>\n",
    "        <td>gender</td>\n",
    "        <td>birthdate</td>\n",
    "    </tr>\n",
    "    </tbody></table>\n",
    "    </td>\n",
    "</tr>\n",
    "</tbody></table>\n",
    "\n",
    "Where *mid* is a unique integer movie identifier and *aid* is a unique integer actor identifier. The attribute *billing* refers to the order that an actor appears in the credits. The field *runtime* is a integer indicating the length of a movie in minutes, and *revenue* and *budget* are real numbers representing dollar amounts. The fields *releasedate* and *birthdate* are dates, and all remaining fileds are text. The primary keys in each table are underlined.\n",
    "\n",
    "Given these tables is it possible for an actor to play multiple roles in the same movie? Explain why or why not.  "
   ]
  },
  {
   "cell_type": "raw",
   "metadata": {
    "number": 5,
    "section": "answer"
   },
   "source": [
    "Yes, it is. In the cast table, billing is a primary key while aid is not. This implies that an actor can be credited multiple times in the same film as long has his/her roles have different billings."
   ]
  },
  {
   "cell_type": "markdown",
   "metadata": {
    "number": 6,
    "section": "problem"
   },
   "source": [
    "**Problem 6:** Given the tables from problem 5 is it possible for two actors to have the same name? Explain why or why not."
   ]
  },
  {
   "cell_type": "raw",
   "metadata": {
    "number": 6,
    "section": "answer"
   },
   "source": [
    "Yes, it is. In the actors table, the only primary key is aid, so this suggestes that multiple actors may have the same name as long as they have different aids."
   ]
  },
  {
   "cell_type": "markdown",
   "metadata": {
    "number": 7,
    "section": "problem"
   },
   "source": [
    "**Problem 7:** Given the tables from problem 5 is it possible for two actors to have equal billings in the same movie? Explain why or why not."
   ]
  },
  {
   "cell_type": "raw",
   "metadata": {
    "number": 7,
    "section": "answer"
   },
   "source": [
    "No, it is not. Billing and mid are the primary keys for cast, so no two actors can have the same billing for the same move since that would lead to a collision of unique identifiers."
   ]
  },
  {
   "cell_type": "markdown",
   "metadata": {
    "number": 8,
    "section": "problem"
   },
   "source": [
    "**Problem 8:** Which attribute or attibutes in tables from problem 5 might be considered foreign keys? Explain why, and any implications if they are not declared a foreign keys."
   ]
  },
  {
   "cell_type": "raw",
   "metadata": {
    "number": 8,
    "section": "answer"
   },
   "source": [
    "In Cast, aid might be considered a foreign key that refers to aid in the Actors table because it is implied to identify specific actors who appear in a film. An implication of aid not being declared a foreign key could be that the Cast table is using aid values differently from the Actors table and that they end up referring to different actors."
   ]
  },
  {
   "cell_type": "markdown",
   "metadata": {
    "number": 9,
    "section": "problem"
   },
   "source": [
    "**Problem 9:** What integrity contraint would be enforced if the combination of (mid, aid) Cast attributes were declared to be unique?"
   ]
  },
  {
   "cell_type": "raw",
   "metadata": {
    "number": 9,
    "section": "answer"
   },
   "source": [
    "Referential integrity would be enforced since there would be no dangling references."
   ]
  },
  {
   "cell_type": "markdown",
   "metadata": {
    "number": 10,
    "section": "problem"
   },
   "source": [
    "**Problem 10:** Give a brief synopsis of the result set from the following relational algebra statement applied to the table definitions from problem 5:\n",
    "\n",
    "<p style=\"margin-left:32px;\">&pi;<sub>Movie.title,Movie.releasedate,Cast.role</sub>(&sigma;<sub>Movies.mid=Cast.mid,Cast.aid=Actors.aid,Actors.name=\"Brad Pitt\"</sub>(Movies &times; Cast &times; Actors))</p>"
   ]
  },
  {
   "cell_type": "raw",
   "metadata": {
    "number": 10,
    "section": "answer"
   },
   "source": [
    "It would show the Movie titles and the release dates of films in which Brad Pitt appeared as well as his roles in them."
   ]
  },
  {
   "cell_type": "markdown",
   "metadata": {
    "number": 11,
    "section": "problem"
   },
   "source": [
    "**Problem 11:** Describe the result set from the following relational algebra statement applied to the table definitions from problem 5:\n",
    "\n",
    "<p style=\"margin-left:32px;\">&pi;<sub>Movies.title,Actors.name,Cast.role</sub>(&sigma;<sub>Movies.title=\"Star Wars\"</sub>(Movies &#x2a1d; Cast &#x2a1d; Actors))</p>"
   ]
  },
  {
   "cell_type": "raw",
   "metadata": {
    "number": 11,
    "section": "answer"
   },
   "source": [
    "It would show the Movie title, Actors' names, and Actors' roles of a movie names \"Star Wars.\""
   ]
  },
  {
   "cell_type": "markdown",
   "metadata": {
    "number": 12,
    "section": "problem"
   },
   "source": [
    "**Problem 12:** Describe the result set from the following relational algebra statement applied to the table definitions also from problem 5:\n",
    "\n",
    "<p style=\"margin-left:32px;\">&pi;<sub>Movies.title,Movies.releasedate</sub>(Movies &#x2a1d;<sub>mid=m1</sub> &sigma;<sub>m1=m2</sub>(&rho;((1 &rarr; m1, 9 &rarr; m2),&sigma;<sub>name=\"Owen Wilson\"</sub>(Cast &#x2a1d; Actors) &times; &sigma;<sub>name=\"Vince Vaughn\"</sub>(Cast &#x2a1d; Actors)))</p>"
   ]
  },
  {
   "cell_type": "raw",
   "metadata": {
    "number": 12,
    "section": "answer"
   },
   "source": [
    "It would provide the titles and release dates of movies with both Owen Wilson and Vince Vaughn."
   ]
  },
  {
   "cell_type": "markdown",
   "metadata": {
    "number": 13,
    "section": "problem"
   },
   "source": [
    "**Problem 13:** Describe the result set from the following relational algebra statement applied to the table definitions also from problem 5:\n",
    "\n",
    "<p style=\"margin-left:32px;\">&pi;<sub>Movies.title,Movies.releasedate</sub>(Movies &#x2a1d; (&sigma;<sub>name=\"Owen Wilson\"</sub>(Cast &#x2a1d; Actors) &#x222a; &sigma;<sub>name=\"Vince Vaughn\"</sub>(Cast &#x2a1d; Actors)))</p>"
   ]
  },
  {
   "cell_type": "raw",
   "metadata": {
    "number": 13,
    "section": "answer"
   },
   "source": [
    "It would provide the titles and release dates of movies with Owen Wilson or Vince Vaughn."
   ]
  },
  {
   "cell_type": "markdown",
   "metadata": {
    "number": 14,
    "section": "problem"
   },
   "source": [
    "**Problem 14:** Describe the result set from the following relational algebra statement when applied to the table definitions from problem 5:\n",
    "\n",
    "<p style=\"margin-left:32px;\">Actors &#x2a1d; (&pi;<sub>Cast.aid</sub>(&sigma;<sub>name=\"Star Wars\"</sub>(Movies &#x2a1d; Cast)) &#x2229; &pi;<sub>Cast.aid</sub>(&sigma;<sub>name=\"The Empire Strikes Back\"</sub>(Movies &#x2a1d; Cast)))</p>"
   ]
  },
  {
   "cell_type": "raw",
   "metadata": {
    "number": 14,
    "section": "answer"
   },
   "source": [
    "It would provide the Actors tuples of actors who appeared in both Star Wars and The Empire Strikes Back."
   ]
  },
  {
   "cell_type": "markdown",
   "metadata": {
    "number": 15,
    "section": "problem"
   },
   "source": [
    "**Problem 15:** Describe the result set from the following relational algebra statement when applied to the table definitions from problem 5:\n",
    "\n",
    "<p style=\"margin-left:32px;\">Movies &#x2a1d; (&pi;<sub>Cast.mid</sub>(&sigma;<sub>role=\"Batman\"</sub>(Cast)) - &pi;<sub>Cast.mid</sub>(&sigma;<sub>role=\"Superman\"</sub>(Cast)))</p>"
   ]
  },
  {
   "cell_type": "raw",
   "metadata": {
    "number": 15,
    "section": "answer"
   },
   "source": [
    "It would provide the Movie tuples of movies that have roles named \"Batman\" but not roles named \"Superman.\""
   ]
  },
  {
   "cell_type": "markdown",
   "metadata": {},
   "source": [
    "Click [here to submit](http://csbio.unc.edu/mcmillan/index.py?run=PS.upload) your completed problem set. \n",
    "\n",
    "You can submit it as many times as you would like, but only the last submitted version will be graded. If the last submission was after the due date the final score will be reduced accordingly. "
   ]
  }
 ],
 "metadata": {
  "anaconda-cloud": {},
  "kernelspec": {
   "display_name": "Python [Root]",
   "language": "python",
   "name": "Python [Root]"
  },
  "language_info": {
   "codemirror_mode": {
    "name": "ipython",
    "version": 2
   },
   "file_extension": ".py",
   "mimetype": "text/x-python",
   "name": "python",
   "nbconvert_exporter": "python",
   "pygments_lexer": "ipython2",
   "version": "2.7.12"
  }
 },
 "nbformat": 4,
 "nbformat_minor": 0
}
