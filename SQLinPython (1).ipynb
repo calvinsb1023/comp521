{
 "cells": [
  {
   "cell_type": "code",
   "execution_count": null,
   "metadata": {
    "collapsed": false
   },
   "outputs": [],
   "source": [
    "import sqlite3\n",
    "\n",
    "db = sqlite3.connect(\"sailors.db\")\n",
    "cursor = db.cursor()\n",
    "cursor.execute(\"\"\"SELECT * FROM Sailors\"\"\")\n",
    "\n",
    "for row in cursor:\n",
    "    print row\n",
    "\n",
    "db.close"
   ]
  },
  {
   "cell_type": "code",
   "execution_count": null,
   "metadata": {
    "collapsed": false
   },
   "outputs": [],
   "source": [
    "import sqlite3\n",
    "\n",
    "db = sqlite3.connect(\"sailors.db\")\n",
    "cursor = db.cursor()\n",
    "\n",
    "cursor.execute(\"\"\"SELECT S.sname, B.bname, R.day\n",
    "                  FROM Sailors S, Boats B, Reserves R\n",
    "                  WHERE S.sid=R.sid AND R.bid=B.bid\n",
    "                  AND  B.color='red'\n",
    "                  ORDER BY S.sname\"\"\")\n",
    "\n",
    "print \"       Name       Boat      Date\"\n",
    "for row in cursor:\n",
    "    print \"%12s %12s %10s\" % row\n",
    "\n",
    "db.close"
   ]
  },
  {
   "cell_type": "code",
   "execution_count": null,
   "metadata": {
    "collapsed": false
   },
   "outputs": [],
   "source": [
    "import sqlite3\n",
    "\n",
    "CREATE_BOATS = \"\"\"CREATE TABLE IF NOT EXISTS Boats (\n",
    "    bid INTEGER PRIMARY KEY AUTOINCREMENT,\n",
    "    bname TEXT NOT NULL,\n",
    "    color TEXT DEFAULT ''\n",
    ")\"\"\"\n",
    "\n",
    "boats = [\n",
    "    (101, 'Interlake', 'blue'),\n",
    "    (102, 'Interlake', 'red'),\n",
    "    (103, 'Clipper', 'green'),\n",
    "    (104, 'Marine', 'red')\n",
    "]\n",
    "\n",
    "db = sqlite3.connect(\"sailors.db\")\n",
    "cursor = db.cursor()\n",
    "cursor.execute(CREATE_BOATS)\n",
    "for row in boats:\n",
    "    cursor.execute(\"REPLACE INTO Boats VALUES(?,?,?)\", row)\n",
    "db.commit()\n",
    "db.close()"
   ]
  },
  {
   "cell_type": "code",
   "execution_count": null,
   "metadata": {
    "collapsed": false
   },
   "outputs": [],
   "source": [
    "import sqlite3\n",
    "\n",
    "db = sqlite3.connect(\"sailors.db\")\n",
    "cursor = db.cursor()\n",
    "print \"BEFORE\"\n",
    "cursor.execute(\"SELECT * FROM Sailors\")\n",
    "for row in cursor:\n",
    "    print row\n",
    "\n",
    "cursor.execute(\"\"\"SELECT s.sid, COUNT(r.bid) AS reservations\n",
    "                  FROM Sailors s, Reserves r\n",
    "                  WHERE s.sid=r.sid\n",
    "                  GROUP BY s.sid\n",
    "                  HAVING s.rating < 10\"\"\")\n",
    "    \n",
    "for row in cursor.fetchall():\n",
    "    if (row[1] > 2):\n",
    "        cursor.execute(\"\"\"UPDATE Sailors\n",
    "                          SET rating = rating + 1\n",
    "                          WHERE sid=%d\"\"\" % row[0])\n",
    "\n",
    "print \"AFTER\"\n",
    "cursor.execute(\"SELECT * FROM Sailors\")\n",
    "for row in cursor:\n",
    "    print row\n",
    "db.close()"
   ]
  },
  {
   "cell_type": "code",
   "execution_count": null,
   "metadata": {
    "collapsed": false
   },
   "outputs": [],
   "source": [
    "import sqlite3\n",
    "\n",
    "db = sqlite3.connect(\"sailors.db\")\n",
    "db.row_factory = sqlite3.Row\n",
    "cursor = db.cursor()\n",
    "\n",
    "cursor.execute(\"\"\"SELECT s.sid, COUNT(r.bid) AS reservations\n",
    "                  FROM Sailors s, Reserves r\n",
    "                  WHERE s.sid=r.sid\n",
    "                  GROUP BY s.sid\n",
    "                  HAVING s.rating < 10\"\"\")\n",
    "    \n",
    "for row in cursor.fetchall():\n",
    "    if (row['reservations'] > 2):\n",
    "        cursor.execute(\"\"\"UPDATE Sailors\n",
    "                          SET rating = rating + 1\n",
    "                          WHERE sid=%d\"\"\" % row['sid'])\n",
    "\n",
    "print \"AFTER\"\n",
    "cursor.execute(\"SELECT * FROM Sailors\")\n",
    "for row in cursor:\n",
    "    print tuple(row)\n",
    "\n",
    "#db.commit()\n",
    "db.close()"
   ]
  },
  {
   "cell_type": "code",
   "execution_count": null,
   "metadata": {
    "collapsed": false
   },
   "outputs": [],
   "source": [
    "import sqlite3\n",
    "\n",
    "db = sqlite3.connect(\"sailors.db\")\n",
    "db.row_factory = sqlite3.Row\n",
    "cursor = db.cursor()\n",
    "\n",
    "cursor.execute(\"\"\"SELECT s.sid, COUNT(r.bid) AS reservations\n",
    "                  FROM Sailors s, Reserves r\n",
    "                  WHERE s.sid=r.sid\n",
    "                  GROUP BY s.sid\n",
    "                  HAVING s.rating < 10\"\"\")\n",
    "    \n",
    "for row in cursor.fetchall():\n",
    "    if (row['reservations'] > 2):\n",
    "        cursor.execute(\"\"\"UPDATE Sailors\n",
    "                          SET rating = rating + 1\n",
    "                          WHERE sid=?\"\"\", (row['sid'],))\n",
    "\n",
    "print \"AFTER\"\n",
    "cursor.execute(\"SELECT * FROM Sailors\")\n",
    "for row in cursor:\n",
    "    print tuple(row)\n",
    "\n",
    "#db.commit()\n",
    "db.close()"
   ]
  },
  {
   "cell_type": "code",
   "execution_count": null,
   "metadata": {
    "collapsed": false
   },
   "outputs": [],
   "source": [
    "import sqlite3\n",
    "db = sqlite3.connect(\"sailors.db\")\n",
    "cursor = db.cursor()\n",
    "\n",
    "cursor.execute(\"SELECT * FROM sqlite_master WHERE type='table'\")\n",
    "for row in cursor:\n",
    "    print row"
   ]
  },
  {
   "cell_type": "code",
   "execution_count": null,
   "metadata": {
    "collapsed": true
   },
   "outputs": [],
   "source": []
  }
 ],
 "metadata": {
  "kernelspec": {
   "display_name": "Python 2",
   "language": "python",
   "name": "python2"
  },
  "language_info": {
   "codemirror_mode": {
    "name": "ipython",
    "version": 2
   },
   "file_extension": ".py",
   "mimetype": "text/x-python",
   "name": "python",
   "nbconvert_exporter": "python",
   "pygments_lexer": "ipython2",
   "version": "2.7.11"
  }
 },
 "nbformat": 4,
 "nbformat_minor": 0
}
