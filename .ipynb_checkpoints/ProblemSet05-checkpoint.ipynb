{
 "cells": [
  {
   "cell_type": "markdown",
   "metadata": {
    "course": "Comp521F16",
    "problemset": 5,
    "section": "header"
   },
   "source": [
    "<div style=\"text-align: center;\">\n",
    "<h1>The University of North Carolina at Chapel Hill</h1>\n",
    "<h1>Comp 521 Files and Databases - Fall 2016</h1>\n",
    "<h1 style=\"font-size: 250%;\">Problem Set #5</h1>\n",
    "<h1 style=\"font-size: 200%;\">Version 1.0</h1>\n",
    "<h2>Issued Friday 11/18/2016; Due Friday 12/02/2016</h2>\n",
    "</div>\n",
    "\n",
    "**Homework Information:** The answer cells in this notebook contain metadata that enable it to be automatically parsed. Thus, you must enter your answers *only* into the cells provided. Do not delete any answer cell and/or add a new one to replace it. If you do so by accident, download a new copy of the problem set's notebook and transfer your answers into it. You can introduce new 'coding' cells in an effort to test your approaches to problems, however, these introduced cells will not be considered when grading.\n",
    "\n",
    "Finally, some of the problems are probably too long to be done the night before the due date, so plan accordingly. Late problem sets will be penalized by a factor of 70.71% for each class meeting after their due date. Feel free to get help from others, but the work you submit in should be your own."
   ]
  },
  {
   "cell_type": "code",
   "execution_count": 1,
   "metadata": {
    "collapsed": true,
    "section": "signature"
   },
   "outputs": [],
   "source": [
    "# Replace the following strings with the requested information\n",
    "# Make sure each string is enclosed in quotation marks\n",
    "class Student:\n",
    "    first = \"Calvin\"\n",
    "    last = \"Barker\"\n",
    "    onyen = \"barkerc1\"\n",
    "    pid = \"720391993\""
   ]
  },
  {
   "cell_type": "markdown",
   "metadata": {},
   "source": [
    "For each of the following relations, tell which normal form it is (BCNF, 3NF, or neither) and why. If it is in less than 3NF, give an equivalent 3NF schema."
   ]
  },
  {
   "cell_type": "markdown",
   "metadata": {
    "number": 1,
    "section": "problem"
   },
   "source": [
    "---\n",
    "**Problem 1:** *Rentals*(SailorId, SailorName, BoatId, Date)</p>\n",
    "<p style=\"padding-left: 60px;\">(SailorId, BoatId, Date) is the primary key.\n",
    "<br>SailorId &rarr; SailorName.</p>\n"
   ]
  },
  {
   "cell_type": "raw",
   "metadata": {
    "number": 1,
    "section": "answer"
   },
   "source": [
    "This is in neither 3NF nor BCNF since SailorName is just dependent on SailorId and not the entirety of the primary key. The following schema would be in 3NF:\n",
    "\n",
    "Rentals(SailorId, BoatId, Date), primary key(SailorId, BoatId, Date)\n",
    "Sailors(SailorId, SailorName), primary key(SailorId)"
   ]
  },
  {
   "cell_type": "markdown",
   "metadata": {
    "number": 2,
    "section": "problem"
   },
   "source": [
    "---\n",
    "**Problem 2:** *ShipmentUpdates*(TrackingNumber, Datetime, FacilityId, Status, ResponsibleEmployee)\n",
    "<p style=\"padding-left: 60px;\">(TrackingNumber, Datetime) is the primary key.\n",
    "<br>(TrackingNumber, Datetime, FacilityId) &rarr; ResponsibleEmployee</p>\n"
   ]
  },
  {
   "cell_type": "raw",
   "metadata": {
    "number": 2,
    "section": "answer"
   },
   "source": [
    "This is in BCNF (and therefore trivially in 3NF) because the FD is a super key that contains the primary key (TrackingNumber, Datetime)."
   ]
  },
  {
   "cell_type": "markdown",
   "metadata": {
    "number": 3,
    "section": "problem"
   },
   "source": [
    "---\n",
    "**Problem 3:** *Genotype*(SampleId, RSid, Chromosome, Position, Value, Type)</p>\n",
    "<p style=\"padding-left: 60px;\">The primary key is (SampleId, RSid).\n",
    "<br>RSid &rarr; (Chromosome, Position, Type),\n",
    "<br>Type &rarr; Value</p>\n"
   ]
  },
  {
   "cell_type": "raw",
   "metadata": {
    "number": 3,
    "section": "answer"
   },
   "source": [
    "This is in neither 3NF nor BCNF since there is a transitive implication from RSid to type and then from type to value, and type is not a key.\n",
    "\n",
    "3NF:\n",
    "Relation1(SampleId, RSid), primary key (SampleId, RSid)\n",
    "Relation2(RSid, Chromosome, Position, Type), primary key(RSid)\n",
    "Relation3(Type, Value), primary key(Type)"
   ]
  },
  {
   "cell_type": "markdown",
   "metadata": {
    "number": 4,
    "section": "problem"
   },
   "source": [
    "---\n",
    "**Problem 4:** *Ticket*(FlightId, TravelerId, Name, Date, Paid, CheckedIn, Start, Destination)</p>\n",
    "<p style=\"padding-left: 60px;\">The primary key is (FlightId, TravelerId, Date),\n",
    "<br>FlightId &rarr; (Start, Destination),\n",
    "<br>TravelerId &rarr; Name</p>\n"
   ]
  },
  {
   "cell_type": "raw",
   "metadata": {
    "number": 4,
    "section": "answer"
   },
   "source": [
    "This is not in 3NF because FlightId and TravelerIds are proper subsets of the primary key. \n",
    "\n",
    "3NF:\n",
    "Relation1(FlightId, TravelerId, Date, Paid, CheckedIn)\n",
    "Relation2(FlightId, Start, Destination), primary key(FlightId)\n",
    "Relation3(TravelerId, Name), primary key(TravelerId)"
   ]
  },
  {
   "cell_type": "markdown",
   "metadata": {},
   "source": [
    "<p style=\"padding-left: 20px; text-indent: -20px;\">The following query finds\n",
    "those actors who played a title role in a movie released since 2003.</p>\n",
    "<pre style=\"padding-left: 50px;\">SELECT A.first,A.last,M.title\n",
    "FROM Actors A, Cast C, Movies M\n",
    "WHERE A.aid=R.aid AND C.mid=M.mid AND C.role=M.title AND year &gt; 2003;\n",
    "</pre>\n",
    "<p>This query can be evaluated using any of the following evaluation plans:</p>\n",
    "<p><img title=\"comp521f14Qplans.png\" src=\"http://www.csbio.unc.edu/mcmillan/Media/PS4Fall16Fig.png\" width=\"800\" height=\"402\" /></p>\n",
    "<p>Assume the Actors relation occupies 150 pages, the Role relation occupies 500 pages,\n",
    "and the Movies relation occupies 100 pages. You can assume the number of records in each\n",
    "relation matches the movies.db database that we have been using throughout the course.</p>"
   ]
  },
  {
   "cell_type": "markdown",
   "metadata": {
    "number": 5,
    "section": "problem"
   },
   "source": [
    "---\n",
    "**Problem 5:**  Assume there are no indices. Estimate the number of block I/Os for each of the three given plans using simple nested loops. Give your answer for each plan."
   ]
  },
  {
   "cell_type": "raw",
   "metadata": {
    "number": 5,
    "section": "answer"
   },
   "source": [
    "Enter your answer here.\n",
    "\n",
    "actors - 61856\n",
    "movies - 7628\n",
    "cast - 131530"
   ]
  },
  {
   "cell_type": "markdown",
   "metadata": {
    "number": 6,
    "section": "problem"
   },
   "source": [
    "---\n",
    "**Problem 6:** Estimate the number of blocks I/Os for each of the three plans using Sort-Merge-Joins (once again assuming no indices). Use only 101 page buffers for sorting. Assume that 100 movie title/mid records fit in a block."
   ]
  },
  {
   "cell_type": "raw",
   "metadata": {
    "number": 6,
    "section": "answer"
   },
   "source": [
    "Enter your answer here."
   ]
  },
  {
   "cell_type": "markdown",
   "metadata": {
    "number": 7,
    "section": "problem"
   },
   "source": [
    "---\n",
    "**Problem 7:** Estimate the number of block I/Os for each of the three plans if one takes advantage of a clustered hash index built over the mid attribute of the \"Cast\" relation. (you can safely assume that all roles for a given mid fit on a single page)"
   ]
  },
  {
   "cell_type": "raw",
   "metadata": {
    "number": 7,
    "section": "answer"
   },
   "source": [
    "Enter your answer here."
   ]
  },
  {
   "cell_type": "markdown",
   "metadata": {
    "number": 8,
    "section": "problem"
   },
   "source": [
    "---\n",
    "**Problem 8:** Which of the following schedules are serializable?\n",
    "\n",
    "    A) R1(x) R2(y) R1(z) R3(z) R2(x) R1(y)\n",
    "    B) R1(x) W2(y) R1(z) R3(z) W2(x) R1(y)\n",
    "    C) R1(x) W2(y) R1(z) R3(z) W1(x) R2(y)\n",
    "    D) R1(x) R2(y) R1(z) R3(z) W1(x) W2(y)\n",
    "    E) W1(x) R2(y) R1(z) R3(z) R1(x) W2(y)\n",
    "\n",
    "For any non-serializable schedule from above show that Strict 2PL disallows it.\n"
   ]
  },
  {
   "cell_type": "raw",
   "metadata": {
    "number": 8,
    "section": "answer"
   },
   "source": [
    "A, C, D, E\n",
    "\n",
    "B)\n",
    "T1: S(x) R(x)             S(z) R(z)                            S(y) R(y) C\n",
    "T2:           X(y) W(y)                         ***X(x) W(x) C\n",
    "T3:                                 S(z) R(z) C\n",
    "***Transaction 2 attempts to get an exclusive lock on x, but transaction 1 still holds a shared lock."
   ]
  },
  {
   "cell_type": "markdown",
   "metadata": {},
   "source": [
    "Consider the following schema:\n",
    "\n",
    "<div style=\"margin:20px 40px;\">\n",
    "<em>Alumni</em>(First, Last, Year, Address, State, Zip, HomePhone, MobilePhone) = FLYASZHM<br>\n",
    "<br>\n",
    "With these five functional dependencies:<br>\n",
    "<div style=\"margin:20px 40px;\">\n",
    "D1: FLZ &rarr; M<br>\n",
    "D2: Z &rarr; S<br>\n",
    "D3: FLA &rarr; H<br>\n",
    "D4: H &rarr; LZ<br>\n",
    "D5: FL &rarr; YAS\n",
    "</div>\n",
    "</div>"
   ]
  },
  {
   "cell_type": "markdown",
   "metadata": {
    "number": 9,
    "section": "problem"
   },
   "source": [
    "---\n",
    "**Problem 9:** Find a minimal cover for these functional dependencies.\n"
   ]
  },
  {
   "cell_type": "raw",
   "metadata": {
    "number": 9,
    "section": "answer"
   },
   "source": [
    "H -> L\n",
    "H -> Z\n",
    "Z -> S\n",
    "FL -> M\n",
    "FL -> H\n",
    "FL -> A\n",
    "FL -> Y"
   ]
  },
  {
   "cell_type": "markdown",
   "metadata": {
    "number": 10,
    "section": "problem"
   },
   "source": [
    "---\n",
    "**Problem 10:** Show that FL is a key for Alumni. Using this FD derive a 3NF lossless-join dependency-preserving decomposition of Alumni."
   ]
  },
  {
   "cell_type": "raw",
   "metadata": {
    "number": 10,
    "section": "answer"
   },
   "source": [
    "FL->M*\n",
    "FL->H*->Z*->S*\n",
    "FL->A*\n",
    "FL->Y*\n",
    "\n",
    "\n",
    "Since FL can be used to derive all other column values, it is a key."
   ]
  },
  {
   "cell_type": "markdown",
   "metadata": {},
   "source": [
    "Click [here to submit](http://csbio.unc.edu/mcmillan/index.py?run=PS.upload) your completed problem set.\n",
    "\n",
    "You can submit it as many times as you would like, but only the last submitted version will be graded. If the last submission was after the due date the final score will be reduced accordingly. "
   ]
  }
 ],
 "metadata": {
  "anaconda-cloud": {},
  "kernelspec": {
   "display_name": "Python [Root]",
   "language": "python",
   "name": "Python [Root]"
  },
  "language_info": {
   "codemirror_mode": {
    "name": "ipython",
    "version": 2
   },
   "file_extension": ".py",
   "mimetype": "text/x-python",
   "name": "python",
   "nbconvert_exporter": "python",
   "pygments_lexer": "ipython2",
   "version": "2.7.12"
  }
 },
 "nbformat": 4,
 "nbformat_minor": 0
}
