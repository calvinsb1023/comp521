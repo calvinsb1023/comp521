{
 "cells": [
  {
   "cell_type": "markdown",
   "metadata": {
    "course": "Comp521F16",
    "problemset": 3,
    "section": "header"
   },
   "source": [
    "<div style=\"text-align: center;\">\n",
    "<h1>The University of North Carolina at Chapel Hill</h1>\n",
    "<h1>Comp 521 Files and Databases - Fall 2016</h1>\n",
    "<h1 style=\"font-size: 250%;\">Problem Set #3</h1>\n",
    "<h1 style=\"font-size: 200%;\">Version 1.0</h1>\n",
    "<h1>Issued Monday 10/03/2016; Due Monday 10/17/2016</h1>\n",
    "</div>\n",
    "\n",
    "**Homework Information:** The answer cells in this notebook contain metadata that enable it to be automatically parsed. Thus, you must enter your answers *only* into the cells provided. Do not delete any answer cell and/or add a new one to replace it. If you do so by accident, download a new copy of the problem set's notebook and transfer your answers into it. You can introduce new 'coding' cells in an effort to test your approaches to problems, however, these introduced cells will not be considered when grading.\n",
    "\n",
    "Finally, some of the problems are probably too long to be done the night before the due date, so plan accordingly. Late problem sets will be penalized by a factor of 70.71% for each class meeting after their due date. Feel free to get help from others, but the work you submit in should be your own."
   ]
  },
  {
   "cell_type": "code",
   "execution_count": 1,
   "metadata": {
    "collapsed": true,
    "section": "signature"
   },
   "outputs": [],
   "source": [
    "# Fill in the fields as described\n",
    "class Student:\n",
    "    first = \"Calvin\"\n",
    "    last = \"Barker\"\n",
    "    onyen = \"barkerc1\"\n",
    "    pid = \"720391993\""
   ]
  },
  {
   "cell_type": "markdown",
   "metadata": {
    "section": "setup"
   },
   "source": [
    "In this problem set we will revisit the *Monkepo* data discussed in Lecture 3. You may want to revist that lecture to reaquaint yourself with the data set. Your first task will be to construct and populate a database with the following schema.\n",
    "\n",
    " <table style=\"border:none;\"><tbody>\n",
    "        <tr style=\"border:none;\">\n",
    "            <td style=\"padding:0px 20px;border:none;\" colspan=\"2\">\n",
    "            <table><tbody>\n",
    "            <tr><th colspan=\"6\" style=\"text-align:center;\">Monkepo</th></tr>\n",
    "            <tr><td><u>mid</u></td>\n",
    "                <td>name</td>\n",
    "            </tr>\n",
    "            </tbody></table>\n",
    "            </td>\n",
    "            <td style=\"padding:20px 20px;border:none;\">\n",
    "            <table><tbody>\n",
    "            <tr><th colspan=\"4\" style=\"text-align:center;\">Appearance</th></tr>\n",
    "            <tr><td><u>mid</u></td>\n",
    "                <td><u>latitude</u></td>\n",
    "                <td><u>longitude</u></td>\n",
    "                <td><u>datetime</u></td>\n",
    "            </tr>\n",
    "            </tbody></table>\n",
    "            </td>\n",
    "            <td style=\"padding:20px 20px;border:none;\">\n",
    "            <table><tbody>\n",
    "            <tr><th colspan=\"4\" style=\"text-align:center;\">Class</th></tr>\n",
    "            <tr><td><u>mid</u></td>\n",
    "                <td><u>major (1/0)</u></td>\n",
    "                <td>type</td>\n",
    "            </tr>\n",
    "            </tbody></table>\n",
    "            </td>\n",
    "        </tr>\n",
    "        </tbody></table>\n",
    "\n",
    "The *Monkepo* relation should hold just the *unique* name of a *monkepo* species and an autoincremented primary key, *mid*. When a *Monkepo* appears its location and appearance time are stored as a tuple in the *Appearance* relation. Finally, the *Class* relation is used to hold information about the major and minor class of the monkepo species. The major class is indicated by a value of *1* in the major field, and the minor class by a *0*. There should be no class entry for a *None* minor type.  \n",
    "\n",
    "Use this verison of the <a href=\"http://csbio.unc.edu/mcmillan/Media/monkepo.csv\" download>data file</a> to fill your database (it is different than the one used in lecture 3)."
   ]
  },
  {
   "cell_type": "markdown",
   "metadata": {
    "number": 1,
    "section": "problem"
   },
   "source": [
    "---\n",
    "**Part 1:** In the cell provided below write a Python fragment to create the specified database, and name it *\"monkepo.db\"* (Hint: you should investigate Python's *DateTime* module to find methods for combining the date and time values from the data file into a single attribute). You code should commit and close your database."
   ]
  },
  {
   "cell_type": "code",
   "execution_count": 1,
   "metadata": {
    "collapsed": false,
    "number": 1,
    "section": "answer"
   },
   "outputs": [
    {
     "name": "stdout",
     "output_type": "stream",
     "text": [
      "hello\n",
      "good bye\n"
     ]
    }
   ],
   "source": [
    "import sqlite3, datetime\n",
    "import pandas as pd\n",
    "\n",
    "monkepo = sqlite3.connect(\"monkepo.db\")\n",
    "cur = monkepo.cursor()\n",
    "cur.execute(\"\"\"DROP TABLE IF EXISTS Monkepo\"\"\")\n",
    "cur.execute(\"\"\"DROP TABLE IF EXISTS Appearance\"\"\")\n",
    "cur.execute(\"\"\"DROP TABLE IF EXISTS Class\"\"\")\n",
    "cur.execute(\"\"\"CREATE TABLE Monkepo (\n",
    "                mid INTEGER PRIMARY KEY, \n",
    "                name TEXT);\"\"\")\n",
    "cur.execute(\"\"\"CREATE TABLE Appearance (\n",
    "                mid INTEGER,\n",
    "                latitude REAL,\n",
    "                longitude REAL,\n",
    "                datetime DATETIME,\n",
    "                PRIMARY KEY(mid, latitude, longitude, datetime),\n",
    "                FOREIGN KEY(mid) REFERENCES Monkepo(mid));\"\"\")\n",
    "cur.execute(\"\"\"CREATE TABLE Class (\n",
    "                mid INTEGER,\n",
    "                major INTEGER,\n",
    "                type TEXT,\n",
    "                PRIMARY KEY(mid, major),\n",
    "                FOREIGN KEY(mid) REFERENCES Monkepo(mid));\"\"\")\n",
    "\n",
    "dataframe = pd.read_csv(\"monkepo.csv\")\n",
    "\n",
    "count = 0\n",
    "monkeType = {}\n",
    "for row in dataframe.itertuples():\n",
    "    if (row.name in monkeType):\n",
    "        continue\n",
    "    else:\n",
    "        monkeType[row.name] = count\n",
    "        cur.execute(\"INSERT INTO Monkepo (mid, name) VALUES (?, ?);\", (count, row.name))\n",
    "        cur.execute(\"INSERT INTO Class (mid, major, type) VALUES (?, 1, ?);\", (count, row.majorclass))\n",
    "        if row.minorclass != \"None\":\n",
    "            cur.execute(\"INSERT INTO Class (mid, major, type) VALUES (?, 0, ?);\", (count, row.minorclass))\n",
    "        count+=1\n",
    "        \n",
    "for row in dataframe.itertuples():\n",
    "        tempcount = monkeType[row.name]\n",
    "        dt = datetime.datetime.strptime(row.date, \"%Y-%m-%d\").date()\n",
    "        try:\n",
    "            tm = datetime.datetime.strptime(row.time, \"%H:%M:%S.%f\").time()\n",
    "        except ValueError as e:\n",
    "            tm = datetime.datetime.strptime(row.time, \"%H:%M:%S\").time()\n",
    "            continue\n",
    "        comb = datetime.datetime.combine(dt, tm)\n",
    "        \n",
    "        try:\n",
    "            cur.execute(\"INSERT INTO Appearance (mid, latitude, longitude, datetime) VALUES (?, ?, ?, ?);\", (tempcount, row.latitude, row.longitude, comb))\n",
    "        except sqlite3.IntegrityError as e:\n",
    "            continue\n",
    "\n",
    "#brief testing\n",
    "#print \"hello\"\n",
    "#print \"good bye\"\n",
    "\n",
    "\n",
    "monkepo.commit()\n",
    "monkepo.close()"
   ]
  },
  {
   "cell_type": "markdown",
   "metadata": {
    "number": 2,
    "section": "problem"
   },
   "source": [
    "---\n",
    "**Part 2:** Using the database that you created in part 1, write Python function to count the frequency of appearances of each Monkepo species. Your function should take the name of your database as an argument and return a sorted list of tuples (Monkepo.name, #appearances) with the most frequent first. Implement this function in using a dictionary like we did in Lecture 3.\n",
    "\n",
    "In the cell below, enter the definition of your function, followed by a call to it, where the result is displayed via a Pandas data frame as shown in the code fragment supplied."
   ]
  },
  {
   "cell_type": "code",
   "execution_count": 35,
   "metadata": {
    "collapsed": false,
    "number": 2,
    "scrolled": true,
    "section": "answer"
   },
   "outputs": [
    {
     "name": "stdout",
     "output_type": "stream",
     "text": [
      "           Name  Count\n",
      "111      PigDye  24296\n",
      "99      AttaRat  18557\n",
      "120     RopeSaw  10320\n",
      "10       DewEel   8651\n",
      "84        Veeee   7279\n",
      "31      NovaNet   4731\n",
      "3      TarPiece   3995\n",
      "43        TubaZ   3606\n",
      "106       ARasp   2573\n",
      "16    AnIronAd-   2460\n",
      "18    AnIronAd+   2444\n",
      "37       HiOdds   1829\n",
      "13     ClayFire   1623\n",
      "57    PigTooted   1559\n",
      "1    TurboSpell   1521\n",
      "24       Rustay   1220\n",
      "65      NoLedge   1196\n",
      "34       ByBark   1174\n",
      "82      APigOwl   1116\n",
      "20     PigKarma   1110\n",
      "8         Snake   1089\n",
      "93    GGExecute   1024\n",
      "5     UsualBarb    910\n",
      "41       YankMe    608\n",
      "88   JiffyPlugG    588\n",
      "11       HasRoe    579\n",
      "9        Ripsin    572\n",
      "68       Nakkau    566\n",
      "60     IrateCat    561\n",
      "25      DuckSpy    538\n",
      "..          ...    ...\n",
      "73     RevelGar      7\n",
      "38   VerbIElect      7\n",
      "35      WingZee      6\n",
      "67    IronGated      6\n",
      "112       RigMe      5\n",
      "107   HipOrWalt      5\n",
      "90      WarmOak      5\n",
      "61       Didroo      4\n",
      "70       Nagger      4\n",
      "62     DoingInk      4\n",
      "55      HamCoke      4\n",
      "122    HairPads      3\n",
      "83     InaneCar      3\n",
      "104   RaidOrgan      3\n",
      "2      RunSuave      3\n",
      "7       Brovolt      3\n",
      "92    LassHands      3\n",
      "19    GimmeATen      3\n",
      "78   IonHelment      2\n",
      "50    HardICzar      2\n",
      "46        Pyhon      2\n",
      "39     ALazaKam      2\n",
      "32      Asniper      1\n",
      "12      NoElFar      1\n",
      "100    RaveNoOp      1\n",
      "48      NoLoJet      1\n",
      "76    AlienSent      1\n",
      "77    BasilToes      1\n",
      "105        XiNo      1\n",
      "54       ARichU      1\n",
      "\n",
      "[123 rows x 2 columns]\n"
     ]
    }
   ],
   "source": [
    "import pandas\n",
    "import sqlite3\n",
    "#Enter your Python 2 code here\n",
    "\n",
    "def monkepoCount(str):\n",
    "    monkepo = sqlite3.connect(str)\n",
    "    cur = monkepo.cursor()\n",
    "\n",
    "    listOfTuples={}\n",
    "    cur.execute(\"\"\"SELECT name FROM Appearance JOIN Monkepo on Appearance.mid = Monkepo.mid\"\"\")\n",
    "\n",
    "    for row in cur:\n",
    "        if (row[0] in listOfTuples):\n",
    "            listOfTuples[row[0]] += 1;\n",
    "        else:\n",
    "            listOfTuples[row[0]] = 1;\n",
    "    df = pandas.DataFrame(listOfTuples.items(), columns=['Name', 'Count']).sort_values('Count', axis=0, ascending=False, inplace=False, kind='quicksort')\n",
    "    print(df)\n",
    "\n",
    "    \n",
    "monkepoCount(\"monkepo.db\")"
   ]
  },
  {
   "cell_type": "markdown",
   "metadata": {
    "number": 3,
    "section": "problem"
   },
   "source": [
    "---\n",
    "**Part 3:** Implement a second version of your function to count the frequency of appearances of each Monkepo species, but this time use SQL's \"GROUP BY\" directive. The input and output of this version should be the same as the one you implemented in Part 2. Display your answer using a Pandas data frame as well."
   ]
  },
  {
   "cell_type": "code",
   "execution_count": 36,
   "metadata": {
    "collapsed": false,
    "number": 3,
    "section": "answer"
   },
   "outputs": [
    {
     "name": "stdout",
     "output_type": "stream",
     "text": [
      "           Name  Count\n",
      "40       PigDye  24296\n",
      "99      AttaRat  18557\n",
      "120     RopeSaw  10320\n",
      "10       DewEel   8651\n",
      "84        Veeee   7279\n",
      "31      NovaNet   4731\n",
      "3      TarPiece   3995\n",
      "44        TubaZ   3606\n",
      "106       ARasp   2573\n",
      "1     AnIronAd-   2460\n",
      "18    AnIronAd+   2444\n",
      "38       HiOdds   1829\n",
      "13     ClayFire   1623\n",
      "58    PigTooted   1559\n",
      "16   TurboSpell   1521\n",
      "24       Rustay   1220\n",
      "66      NoLedge   1196\n",
      "34       ByBark   1174\n",
      "82      APigOwl   1116\n",
      "36     PigKarma   1110\n",
      "8         Snake   1089\n",
      "65    GGExecute   1024\n",
      "5     UsualBarb    910\n",
      "42       YankMe    608\n",
      "88   JiffyPlugG    588\n",
      "11       HasRoe    579\n",
      "80       Ripsin    572\n",
      "68       Nakkau    566\n",
      "61     IrateCat    561\n",
      "25      DuckSpy    538\n",
      "..          ...    ...\n",
      "39   VerbIElect      7\n",
      "73     RevelGar      7\n",
      "35      WingZee      6\n",
      "20    IronGated      6\n",
      "107   HipOrWalt      5\n",
      "112       RigMe      5\n",
      "90      WarmOak      5\n",
      "56      HamCoke      4\n",
      "62       Didroo      4\n",
      "63     DoingInk      4\n",
      "70       Nagger      4\n",
      "2      RunSuave      3\n",
      "92    LassHands      3\n",
      "122    HairPads      3\n",
      "104   RaidOrgan      3\n",
      "7       Brovolt      3\n",
      "83     InaneCar      3\n",
      "19    GimmeATen      3\n",
      "111    ALazaKam      2\n",
      "78   IonHelment      2\n",
      "47        Pyhon      2\n",
      "51    HardICzar      2\n",
      "49      NoLoJet      1\n",
      "32      Asniper      1\n",
      "76    AlienSent      1\n",
      "55       ARichU      1\n",
      "105        XiNo      1\n",
      "100    RaveNoOp      1\n",
      "77    BasilToes      1\n",
      "12      NoElFar      1\n",
      "\n",
      "[123 rows x 2 columns]\n"
     ]
    }
   ],
   "source": [
    "import pandas\n",
    "import sqlite3\n",
    "\n",
    "def monkepoCountGrp(str):\n",
    "    monkepo = sqlite3.connect(str)\n",
    "    cur = monkepo.cursor()\n",
    "\n",
    "    listOfTuples={}\n",
    "    cur.execute(\"\"\"SELECT name, COUNT(name) \n",
    "                   FROM Appearance \n",
    "                   JOIN Monkepo on Appearance.mid = Monkepo.mid\n",
    "                   GROUP BY name\n",
    "                   ORDER BY COUNT(name)\"\"\")\n",
    "\n",
    "    for row in cur:\n",
    "        listOfTuples[row[0]] = row[1]\n",
    "\n",
    "    df = pandas.DataFrame(listOfTuples.items(), columns=['Name', 'Count']).sort_values('Count', axis=0, ascending=False, inplace=False, kind='quicksort')\n",
    "    print(df)\n",
    "\n",
    "    \n",
    "monkepoCountGrp(\"monkepo.db\")"
   ]
  },
  {
   "cell_type": "markdown",
   "metadata": {
    "number": 4,
    "section": "problem"
   },
   "source": [
    "---\n",
    "**Part 4:** Use Jupyter's [*%timeit*](http://ipython.readthedocs.io/en/stable/interactive/magics.html#magic-timeit) function to compare the performance of the two functions that you wrote in parts 2 and 3."
   ]
  },
  {
   "cell_type": "code",
   "execution_count": 36,
   "metadata": {
    "collapsed": false,
    "number": 4,
    "scrolled": true,
    "section": "answer"
   },
   "outputs": [
    {
     "name": "stdout",
     "output_type": "stream",
     "text": [
      "The slowest run took 29.85 times longer than the fastest. This could mean that an intermediate result is being cached.\n",
      "10000000 loops, best of 3: 63.9 ns per loop\n",
      "10000000 loops, best of 3: 64.6 ns per loop\n",
      "10000000 loops, best of 3: 63.4 ns per loop\n"
     ]
    }
   ],
   "source": [
    "import pandas\n",
    "import sqlite3\n",
    "from timeit import default_timer as timer\n",
    "#Enter your Python 2 code here\n",
    "\n",
    "def monkepoCount(str):\n",
    "    monkepo = sqlite3.connect(str)\n",
    "    cur = monkepo.cursor()\n",
    "\n",
    "    listOfTuples={}\n",
    "    cur.execute(\"\"\"SELECT name FROM Appearance JOIN Monkepo on Appearance.mid = Monkepo.mid\"\"\")\n",
    "\n",
    "    for row in cur:\n",
    "        if (row[0] in listOfTuples):\n",
    "            listOfTuples[row[0]] += 1;\n",
    "        else:\n",
    "            listOfTuples[row[0]] = 1;\n",
    "    df = pandas.DataFrame(listOfTuples.items(), columns=['Name', 'Count']).sort_values('Count', axis=0, ascending=False, inplace=False, kind='quicksort')\n",
    "    print(df)\n",
    "    \n",
    "def monkepoCountGrp(str):\n",
    "    monkepo = sqlite3.connect(str)\n",
    "    cur = monkepo.cursor()\n",
    "\n",
    "    listOfTuples={}\n",
    "    cur.execute(\"\"\"SELECT name, COUNT(name) \n",
    "                   FROM Appearance \n",
    "                   JOIN Monkepo on Appearance.mid = Monkepo.mid\n",
    "                   GROUP BY name\n",
    "                   ORDER BY COUNT(name)\"\"\")\n",
    "\n",
    "    for row in cur:\n",
    "        listOfTuples[row[0]] = row[1]\n",
    "\n",
    "    df = pandas.DataFrame(listOfTuples.items(), columns=['Name', 'Count']).sort_values('Count', axis=0, ascending=False, inplace=False, kind='quicksort')\n",
    "    print(df)\n",
    "\n",
    "def test1():\n",
    "    monkepoCount('monkepo.db')\n",
    "def test2():\n",
    "    monkepoCountGrp('monkepo.db')\n",
    "\n"
   ]
  },
  {
   "cell_type": "markdown",
   "metadata": {
    "number": 5,
    "section": "problem"
   },
   "source": [
    "---\n",
    "**Part 5:** In the following cell write a Python function that finds both the rarest and most  common monkepo species for each class. Your function should take your database name as an input and it it should return a list with with a tuple for each distinct class type and columns with the most and least common Monkepo species names."
   ]
  },
  {
   "cell_type": "code",
   "execution_count": 134,
   "metadata": {
    "collapsed": false,
    "number": 5,
    "scrolled": true,
    "section": "answer"
   },
   "outputs": [
    {
     "name": "stdout",
     "output_type": "stream",
     "text": [
      "           Most Common   Most Rare\n",
      "Aggressive      YankMe  IonHelment\n",
      "Beastly        TrainId   RaidOrgan\n",
      "Boring         AttaRat     Asniper\n",
      "Dirty          EdgeDuo        XiNo\n",
      "Elfish        ClayFire  WiffyGlutG\n",
      "Hot          TigerHowl   AlienSent\n",
      "Insect        TarPiece     MadPoet\n",
      "Metallic     GimmeATen   GimmeATen\n",
      "Mineral        RhoRhyn      RhoDyn\n",
      "Mystic       GGExecute    ALazaKam\n",
      "Shocking       AHickUp      ARichU\n",
      "Toxic           DewEel       RigMe\n",
      "Turf             ARasp    EastCarp\n",
      "Wet             Rustay   BasilToes\n",
      "Winged          PigDye   HardICzar\n"
     ]
    }
   ],
   "source": [
    "import pandas\n",
    "import sqlite3\n",
    "\n",
    "def monkepoCountGrp(str):\n",
    "    monkepo = sqlite3.connect(str)\n",
    "    cur = monkepo.cursor()\n",
    "\n",
    "    common={}\n",
    "    rare={}\n",
    "    end={}\n",
    "    count={}\n",
    "    cur.execute(\"\"\"SELECT name, COUNT(name), type\n",
    "                   FROM Appearance \n",
    "                   JOIN Monkepo on Appearance.mid = Monkepo.mid\n",
    "                   JOIN Class on Class.mid = Monkepo.mid\n",
    "                   GROUP BY name\n",
    "                   ORDER BY COUNT(name) DESC\"\"\")\n",
    "\n",
    "    for row in cur:\n",
    "        \n",
    "        name = row[0]\n",
    "        cnt = row[1]\n",
    "        mpType = row[2]\n",
    "        \n",
    "        count[name] = cnt\n",
    "        \n",
    "        if mpType in common:\n",
    "            \n",
    "            if cnt > count[common[mpType]]:\n",
    "                common[mpType] = name\n",
    "                \n",
    "        elif mpType not in common:\n",
    "            common[mpType] = name\n",
    "            \n",
    "        if mpType in rare:            \n",
    "            if cnt < count[rare[mpType]]:\n",
    "                rare[mpType] = name\n",
    "                \n",
    "        elif mpType not in rare:\n",
    "            rare[mpType] = name\n",
    "    \n",
    "    #for key in common.keys():\n",
    "        #end[key] = [common[key], rare[key]]\n",
    "        \n",
    "    end['Most Common'] = common\n",
    "    end['Most Rare'] = rare\n",
    "            \n",
    "    #this kind of works\n",
    "    #df = pandas.DataFrame([common, rare])\n",
    "    \n",
    "    #df1 = pandas.DataFrame(common.items())\n",
    "    #df2 = pandas.DataFrame(rare.items())\n",
    "    #df3 = pandas.DataFrame([common.items(), rare.items()])\n",
    "    #df4 = pandas.DataFrame.from_dict(end)\n",
    "    df5 = pandas.DataFrame(end)\n",
    "    #.T.rename([0,1], ['Common', 'Rare'])\n",
    "    \n",
    "    \n",
    "    #print(pandas.DataFrame(pandas.DataFrame.transpose(df), columns=['Most Common', 'Most Rare']))\n",
    "    #print df1\n",
    "    #print df2\n",
    "    #print(df1.combine_first(df2))\n",
    "    #print(df4)\n",
    "    print(df5)\n",
    "    \n",
    "monkepoCountGrp(\"monkepo.db\")"
   ]
  },
  {
   "cell_type": "markdown",
   "metadata": {
    "number": 6,
    "section": "problem"
   },
   "source": [
    "---\n",
    "**Part 6:** One of the reasons that Monkepo appear is that they depend on supply stations in order to survive in Earth's harsh environment. The same smartphone app that Millennials use for detecting Mokepos also detects the locations of these supply stations. A list of detected stations is available for <a href=\"http://csbio.unc.edu/mcmillan/Media/stations.csv\" download>download</a> here.\n",
    "\n",
    "In the next cell you should add a new table to your database called *SupplyStations*. Make sure that you commit and close the modified database.\n",
    "\n",
    "Then write a code fragment that finds, for each supply station how many Monkepo appearances were closer to it than to any other station. Your code should produce a list of tuples (stationID, latitude, longitude, #ofNearbyMonkepo) sorted from most popular to least popular.\n",
    "\n",
    "***This problem is challenging, allow for enough time to do it!*** You can approximate the distance between a Monkepo appearance and a supply station by $\\sqrt{(latitude_{Monkepo} - latitude_{Station})^2 + (longitude_{Monkepo} - longitude_{Station})^2}$. This is not techically correct, but it is close at the scales and latitudes we are considering."
   ]
  },
  {
   "cell_type": "code",
   "execution_count": 7,
   "metadata": {
    "collapsed": true,
    "number": 6,
    "section": "answer"
   },
   "outputs": [],
   "source": [
    "#Enter your Python 2 code \n",
    "\n",
    "\n",
    "\n",
    "\n",
    "\n",
    "\n",
    "\n",
    "\n",
    "\n"
   ]
  },
  {
   "cell_type": "markdown",
   "metadata": {
    "section": "submit"
   },
   "source": [
    "Click [here to submit](http://csbio.unc.edu/mcmillan/index.py?run=PS.upload) your completed problem set.\n",
    "\n",
    "You can submit it as many times as you would like, but only the last submitted version will be graded. If the last submission was after the due date the final score will be reduced accordingly. We do not need your database, since your Notebook should produce it."
   ]
  }
 ],
 "metadata": {
  "anaconda-cloud": {},
  "kernelspec": {
   "display_name": "Python [Root]",
   "language": "python",
   "name": "Python [Root]"
  },
  "language_info": {
   "codemirror_mode": {
    "name": "ipython",
    "version": 2
   },
   "file_extension": ".py",
   "mimetype": "text/x-python",
   "name": "python",
   "nbconvert_exporter": "python",
   "pygments_lexer": "ipython2",
   "version": "2.7.12"
  }
 },
 "nbformat": 4,
 "nbformat_minor": 0
}
