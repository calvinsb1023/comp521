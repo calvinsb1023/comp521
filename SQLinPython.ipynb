{
 "cells": [
  {
   "cell_type": "code",
   "execution_count": 1,
   "metadata": {
    "collapsed": false
   },
   "outputs": [
    {
     "ename": "OperationalError",
     "evalue": "no such table: Sailors",
     "output_type": "error",
     "traceback": [
      "\u001b[0;31m---------------------------------------------------------------------------\u001b[0m",
      "\u001b[0;31mOperationalError\u001b[0m                          Traceback (most recent call last)",
      "\u001b[0;32m<ipython-input-1-b14f48f469f8>\u001b[0m in \u001b[0;36m<module>\u001b[0;34m()\u001b[0m\n\u001b[1;32m      3\u001b[0m \u001b[0mdb\u001b[0m \u001b[0;34m=\u001b[0m \u001b[0msqlite3\u001b[0m\u001b[0;34m.\u001b[0m\u001b[0mconnect\u001b[0m\u001b[0;34m(\u001b[0m\u001b[0;34m\"sailors.db\"\u001b[0m\u001b[0;34m)\u001b[0m\u001b[0;34m\u001b[0m\u001b[0m\n\u001b[1;32m      4\u001b[0m \u001b[0mcursor\u001b[0m \u001b[0;34m=\u001b[0m \u001b[0mdb\u001b[0m\u001b[0;34m.\u001b[0m\u001b[0mcursor\u001b[0m\u001b[0;34m(\u001b[0m\u001b[0;34m)\u001b[0m\u001b[0;34m\u001b[0m\u001b[0m\n\u001b[0;32m----> 5\u001b[0;31m \u001b[0mcursor\u001b[0m\u001b[0;34m.\u001b[0m\u001b[0mexecute\u001b[0m\u001b[0;34m(\u001b[0m\u001b[0;34m\"\"\"SELECT * FROM Sailors\"\"\"\u001b[0m\u001b[0;34m)\u001b[0m\u001b[0;34m\u001b[0m\u001b[0m\n\u001b[0m\u001b[1;32m      6\u001b[0m \u001b[0;34m\u001b[0m\u001b[0m\n\u001b[1;32m      7\u001b[0m \u001b[0;32mfor\u001b[0m \u001b[0mrow\u001b[0m \u001b[0;32min\u001b[0m \u001b[0mcursor\u001b[0m\u001b[0;34m:\u001b[0m\u001b[0;34m\u001b[0m\u001b[0m\n",
      "\u001b[0;31mOperationalError\u001b[0m: no such table: Sailors"
     ]
    }
   ],
   "source": [
    "import sqlite3\n",
    "\n",
    "db = sqlite3.connect(\"sailors.db\")\n",
    "cursor = db.cursor()\n",
    "cursor.execute(\"\"\"SELECT * FROM Sailors\"\"\")\n",
    "\n",
    "for row in cursor:\n",
    "    print row\n",
    "\n",
    "db.close"
   ]
  },
  {
   "cell_type": "code",
   "execution_count": null,
   "metadata": {
    "collapsed": false
   },
   "outputs": [],
   "source": [
    "import sqlite3\n",
    "\n",
    "db = sqlite3.connect(\"sailors.db\")\n",
    "cursor = db.cursor()\n",
    "\n",
    "cursor.execute(\"\"\"SELECT S.sname, B.bname, R.day\n",
    "                  FROM Sailors S, Boats B, Reserves R\n",
    "                  WHERE S.sid=R.sid AND R.bid=B.bid\n",
    "                  AND  B.color='red'\n",
    "                  ORDER BY S.sname\"\"\")\n",
    "\n",
    "print \"       Name       Boat      Date\"\n",
    "for row in cursor:\n",
    "    print \"%12s %12s %10s\" % row\n",
    "\n",
    "db.close"
   ]
  },
  {
   "cell_type": "code",
   "execution_count": 3,
   "metadata": {
    "collapsed": false
   },
   "outputs": [],
   "source": [
    "import sqlite3\n",
    "\n",
    "CREATE_BOATS = \"\"\"CREATE TABLE IF NOT EXISTS Boats (\n",
    "    bid INTEGER PRIMARY KEY AUTOINCREMENT,\n",
    "    bname TEXT NOT NULL,\n",
    "    color TEXT DEFAULT ''\n",
    ")\"\"\"\n",
    "\n",
    "boats = [\n",
    "    (101, 'Interlake', 'blue'),\n",
    "    (102, 'Interlake', 'red'),\n",
    "    (103, 'Clipper', 'green'),\n",
    "    (104, 'Marine', 'red')\n",
    "]\n",
    "\n",
    "db = sqlite3.connect(\"sailors.db\")\n",
    "cursor = db.cursor()\n",
    "cursor.execute(CREATE_BOATS)\n",
    "for row in boats:\n",
    "    cursor.execute(\"REPLACE INTO Boats VALUES(?,?,?)\", row)\n",
    "db.commit()\n",
    "db.close()"
   ]
  },
  {
   "cell_type": "code",
   "execution_count": null,
   "metadata": {
    "collapsed": false
   },
   "outputs": [],
   "source": [
    "import sqlite3\n",
    "\n",
    "db = sqlite3.connect(\"sailors.db\")\n",
    "cursor = db.cursor()\n",
    "print \"BEFORE\"\n",
    "cursor.execute(\"SELECT * FROM Sailors\")\n",
    "for row in cursor:\n",
    "    print row\n",
    "\n",
    "cursor.execute(\"\"\"SELECT s.sid, COUNT(r.bid) AS reservations\n",
    "                  FROM Sailors s, Reserves r\n",
    "                  WHERE s.sid=r.sid\n",
    "                  GROUP BY s.sid\n",
    "                  HAVING s.rating < 10\"\"\")\n",
    "    \n",
    "for row in cursor.fetchall():\n",
    "    if (row[1] > 2):\n",
    "        cursor.execute(\"\"\"UPDATE Sailors\n",
    "                          SET rating = rating + 1\n",
    "                          WHERE sid=%d\"\"\" % row[0])\n",
    "\n",
    "print \"AFTER\"\n",
    "cursor.execute(\"SELECT * FROM Sailors\")\n",
    "for row in cursor:\n",
    "    print row\n",
    "db.close()"
   ]
  },
  {
   "cell_type": "code",
   "execution_count": null,
   "metadata": {
    "collapsed": false
   },
   "outputs": [],
   "source": [
    "import sqlite3\n",
    "\n",
    "db = sqlite3.connect(\"sailors.db\")\n",
    "db.row_factory = sqlite3.Row\n",
    "cursor = db.cursor()\n",
    "\n",
    "cursor.execute(\"\"\"SELECT s.sid, COUNT(r.bid) AS reservations\n",
    "                  FROM Sailors s, Reserves r\n",
    "                  WHERE s.sid=r.sid\n",
    "                  GROUP BY s.sid\n",
    "                  HAVING s.rating < 10\"\"\")\n",
    "    \n",
    "for row in cursor.fetchall():\n",
    "    if (row['reservations'] > 2):\n",
    "        cursor.execute(\"\"\"UPDATE Sailors\n",
    "                          SET rating = rating + 1\n",
    "                          WHERE sid=%d\"\"\" % row['sid'])\n",
    "\n",
    "print \"AFTER\"\n",
    "cursor.execute(\"SELECT * FROM Sailors\")\n",
    "for row in cursor:\n",
    "    print tuple(row)\n",
    "\n",
    "#db.commit()\n",
    "db.close()"
   ]
  },
  {
   "cell_type": "code",
   "execution_count": null,
   "metadata": {
    "collapsed": false
   },
   "outputs": [],
   "source": [
    "import sqlite3\n",
    "\n",
    "db = sqlite3.connect(\"sailors.db\")\n",
    "db.row_factory = sqlite3.Row\n",
    "cursor = db.cursor()\n",
    "\n",
    "cursor.execute(\"\"\"SELECT s.sid, COUNT(r.bid) AS reservations\n",
    "                  FROM Sailors s, Reserves r\n",
    "                  WHERE s.sid=r.sid\n",
    "                  GROUP BY s.sid\n",
    "                  HAVING s.rating < 10\"\"\")\n",
    "    \n",
    "for row in cursor.fetchall():\n",
    "    if (row['reservations'] > 2):\n",
    "        cursor.execute(\"\"\"UPDATE Sailors\n",
    "                          SET rating = rating + 1\n",
    "                          WHERE sid=?\"\"\", (row['sid'],))\n",
    "\n",
    "print \"AFTER\"\n",
    "cursor.execute(\"SELECT * FROM Sailors\")\n",
    "for row in cursor:\n",
    "    print tuple(row)\n",
    "\n",
    "#db.commit()\n",
    "db.close()"
   ]
  },
  {
   "cell_type": "code",
   "execution_count": null,
   "metadata": {
    "collapsed": false
   },
   "outputs": [],
   "source": [
    "import sqlite3\n",
    "db = sqlite3.connect(\"sailors.db\")\n",
    "cursor = db.cursor()\n",
    "\n",
    "cursor.execute(\"SELECT * FROM sqlite_master WHERE type='table'\")\n",
    "for row in cursor:\n",
    "    print row"
   ]
  },
  {
   "cell_type": "code",
   "execution_count": null,
   "metadata": {
    "collapsed": true
   },
   "outputs": [],
   "source": []
  }
 ],
 "metadata": {
  "anaconda-cloud": {},
  "kernelspec": {
   "display_name": "Python [Root]",
   "language": "python",
   "name": "Python [Root]"
  },
  "language_info": {
   "codemirror_mode": {
    "name": "ipython",
    "version": 2
   },
   "file_extension": ".py",
   "mimetype": "text/x-python",
   "name": "python",
   "nbconvert_exporter": "python",
   "pygments_lexer": "ipython2",
   "version": "2.7.12"
  }
 },
 "nbformat": 4,
 "nbformat_minor": 0
}
